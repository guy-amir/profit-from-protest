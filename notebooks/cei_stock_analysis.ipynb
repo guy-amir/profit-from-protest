{
 "cells": [
  {
   "cell_type": "markdown",
   "metadata": {},
   "source": [
    "# CEI Score Impact on Stock Returns Analysis\n",
    "\n",
    "This notebook analyzes how Corporate Equality Index (CEI) scores affect stock returns around release dates.\n",
    "\n",
    "## Analysis Steps:\n",
    "1. Load CEI scores and stock price data\n",
    "2. Aggregate companies by CEI score bins (every 10 points)\n",
    "3. Analyze returns by year and score bin around release dates\n",
    "4. Create overall analysis across all years"
   ]
  },
  {
   "cell_type": "code",
   "execution_count": null,
   "metadata": {},
   "outputs": [],
   "source": [
    "import pandas as pd\n",
    "import numpy as np\n",
    "import matplotlib.pyplot as plt\n",
    "import seaborn as sns\n",
    "from datetime import datetime, timedelta\n",
    "import warnings\n",
    "warnings.filterwarnings('ignore')\n",
    "\n",
    "# Set up plotting style\n",
    "plt.style.use('seaborn-v0_8')\n",
    "sns.set_palette(\"husl\")\n",
    "plt.rcParams['figure.figsize'] = (12, 8)\n",
    "plt.rcParams['font.size'] = 10"
   ]
  },
  {
   "cell_type": "markdown",
   "metadata": {},
   "source": [
    "## 1. Load and Prepare Data"
   ]
  },
  {
   "cell_type": "code",
   "execution_count": null,
   "metadata": {},
   "outputs": [],
   "source": [
    "# Load CEI data\n",
    "print(\"Loading CEI data...\")\n",
    "cei_df = pd.read_csv('data/processed/cei_with_dates.csv')\n",
    "print(f\"CEI records: {len(cei_df):,}\")\n",
    "print(f\"Years covered: {sorted(cei_df['year'].unique())}\")\n",
    "\n",
    "# Load stock price data\n",
    "print(\"\\nLoading stock price data...\")\n",
    "stock_df = pd.read_csv('data/processed/stock_prices_event_window.csv')\n",
    "stock_df['date'] = pd.to_datetime(stock_df['date'])\n",
    "stock_df['cei_release_date'] = pd.to_datetime(stock_df['cei_release_date'])\n",
    "print(f\"Stock price records: {len(stock_df):,}\")\n",
    "print(f\"Unique firms: {stock_df['cusip6'].nunique()}\")\n",
    "print(f\"Date range: {stock_df['date'].min()} to {stock_df['date'].max()}\")\n",
    "\n",
    "# Display data info\n",
    "print(\"\\nCEI Data Sample:\")\n",
    "display(cei_df.head())\n",
    "\n",
    "print(\"\\nStock Data Sample:\")\n",
    "display(stock_df.head())"
   ]
  },
  {
   "cell_type": "code",
   "execution_count": null,
   "metadata": {},
   "outputs": [],
   "source": [
    "# Create CUSIP6 from CEI data for matching\n",
    "def get_cusip6(cusip):\n",
    "    \"\"\"Extract first 6 digits of CUSIP.\"\"\"\n",
    "    if pd.isna(cusip):\n",
    "        return None\n",
    "    cusip_str = str(cusip).strip()\n",
    "    if len(cusip_str) >= 6:\n",
    "        return cusip_str[:6]\n",
    "    return None\n",
    "\n",
    "cei_df['cusip6'] = cei_df['cusip'].apply(get_cusip6)\n",
    "cei_df = cei_df.dropna(subset=['cusip6', 'cei_score'])\n",
    "\n",
    "print(f\"CEI records with valid CUSIP6 and scores: {len(cei_df):,}\")"
   ]
  },
  {
   "cell_type": "code",
   "execution_count": null,
   "metadata": {},
   "outputs": [],
   "source": [
    "# Create CEI score bins (every 10 points)\n",
    "def create_score_bin(score):\n",
    "    \"\"\"Create score bins: 0-9, 10-19, ..., 90-100\"\"\"\n",
    "    if pd.isna(score):\n",
    "        return None\n",
    "    bin_start = int(score // 10) * 10\n",
    "    bin_end = min(bin_start + 9, 100)\n",
    "    return f\"{bin_start}-{bin_end}\"\n",
    "\n",
    "cei_df['score_bin'] = cei_df['cei_score'].apply(create_score_bin)\n",
    "\n",
    "# Show score distribution\n",
    "print(\"CEI Score Distribution by Bin:\")\n",
    "score_dist = cei_df['score_bin'].value_counts().sort_index()\n",
    "print(score_dist)\n",
    "\n",
    "plt.figure(figsize=(10, 6))\n",
    "score_dist.plot(kind='bar')\n",
    "plt.title('Distribution of CEI Scores by Bin')\n",
    "plt.xlabel('CEI Score Bin')\n",
    "plt.ylabel('Number of Company-Year Observations')\n",
    "plt.xticks(rotation=45)\n",
    "plt.tight_layout()\n",
    "plt.show()"
   ]
  },
  {
   "cell_type": "markdown",
   "metadata": {},
   "source": [
    "## 2. Merge CEI and Stock Data"
   ]
  },
  {
   "cell_type": "code",
   "execution_count": null,
   "metadata": {},
   "outputs": [],
   "source": [
    "# Merge CEI data with stock data\n",
    "# First, create year from release date in stock data\n",
    "stock_df['cei_year'] = stock_df['cei_release_date'].dt.year\n",
    "\n",
    "# Merge on cusip6 and year\n",
    "merged_df = stock_df.merge(\n",
    "    cei_df[['cusip6', 'year', 'cei_score', 'score_bin', 'employer']], \n",
    "    left_on=['cusip6', 'cei_year'], \n",
    "    right_on=['cusip6', 'year'], \n",
    "    how='inner'\n",
    ")\n",
    "\n",
    "print(f\"Merged records: {len(merged_df):,}\")\n",
    "print(f\"Unique firms in merged data: {merged_df['cusip6'].nunique()}\")\n",
    "print(f\"Years with data: {sorted(merged_df['year'].unique())}\")\n",
    "\n",
    "# Clean data - remove missing returns\n",
    "merged_df = merged_df.dropna(subset=['RET'])\n",
    "print(f\"Records with valid returns: {len(merged_df):,}\")\n",
    "\n",
    "display(merged_df.head())"
   ]
  },
  {
   "cell_type": "markdown",
   "metadata": {},
   "source": [
    "## 3. Analyze Returns by Year and Score Bin"
   ]
  },
  {
   "cell_type": "code",
   "execution_count": null,
   "metadata": {},
   "outputs": [],
   "source": [
    "# Calculate average returns by year, score bin, and days from release\n",
    "yearly_analysis = merged_df.groupby(['year', 'score_bin', 'days_from_release'])['RET'].agg([\n",
    "    'mean', 'std', 'count'\n",
    "]).reset_index()\n",
    "\n",
    "yearly_analysis.columns = ['year', 'score_bin', 'days_from_release', 'avg_return', 'std_return', 'count']\n",
    "\n",
    "print(\"Sample of yearly analysis:\")\n",
    "display(yearly_analysis.head(10))"
   ]
  },
  {
   "cell_type": "code",
   "execution_count": null,
   "metadata": {},
   "outputs": [],
   "source": [
    "# Plot returns by score bin for each year around release dates\n",
    "years_to_plot = sorted(merged_df['year'].unique())[:6]  # Plot first 6 years\n",
    "\n",
    "fig, axes = plt.subplots(2, 3, figsize=(18, 12))\n",
    "axes = axes.flatten()\n",
    "\n",
    "for i, year in enumerate(years_to_plot):\n",
    "    year_data = yearly_analysis[yearly_analysis['year'] == year]\n",
    "    \n",
    "    # Pivot data for plotting\n",
    "    pivot_data = year_data.pivot(index='days_from_release', columns='score_bin', values='avg_return')\n",
    "    \n",
    "    ax = axes[i]\n",
    "    \n",
    "    # Plot each score bin\n",
    "    for score_bin in pivot_data.columns:\n",
    "        if not pivot_data[score_bin].isna().all():\n",
    "            ax.plot(pivot_data.index, pivot_data[score_bin] * 100, \n",
    "                   marker='o', label=f'CEI {score_bin}', linewidth=2)\n",
    "    \n",
    "    ax.axvline(x=0, color='red', linestyle='--', alpha=0.7, label='Release Date')\n",
    "    ax.set_title(f'Returns Around CEI Release - {year}')\n",
    "    ax.set_xlabel('Days from Release')\n",
    "    ax.set_ylabel('Average Return (%)')\n",
    "    ax.legend(bbox_to_anchor=(1.05, 1), loc='upper left')\n",
    "    ax.grid(True, alpha=0.3)\n",
    "\n",
    "plt.tight_layout()\n",
    "plt.show()"
   ]
  },
  {
   "cell_type": "markdown",
   "metadata": {},
   "source": [
    "## 4. Aggregate Analysis Across All Years"
   ]
  },
  {
   "cell_type": "code",
   "execution_count": null,
   "metadata": {},
   "outputs": [],
   "source": [
    "# Aggregate across all years\n",
    "overall_analysis = merged_df.groupby(['score_bin', 'days_from_release'])['RET'].agg([\n",
    "    'mean', 'std', 'count'\n",
    "]).reset_index()\n",
    "\n",
    "overall_analysis.columns = ['score_bin', 'days_from_release', 'avg_return', 'std_return', 'count']\n",
    "\n",
    "# Calculate standard error\n",
    "overall_analysis['std_error'] = overall_analysis['std_return'] / np.sqrt(overall_analysis['count'])\n",
    "\n",
    "print(\"Overall analysis sample:\")\n",
    "display(overall_analysis.head(10))"
   ]
  },
  {
   "cell_type": "code",
   "execution_count": null,
   "metadata": {},
   "outputs": [],
   "source": [
    "# Create main plot: Returns vs Days from Release by Score Bin\n",
    "plt.figure(figsize=(14, 10))\n",
    "\n",
    "# Get unique score bins and sort them\n",
    "score_bins = sorted(overall_analysis['score_bin'].unique())\n",
    "colors = plt.cm.RdYlGn(np.linspace(0.2, 0.8, len(score_bins)))\n",
    "\n",
    "for i, score_bin in enumerate(score_bins):\n",
    "    bin_data = overall_analysis[overall_analysis['score_bin'] == score_bin]\n",
    "    \n",
    "    if not bin_data.empty:\n",
    "        plt.plot(bin_data['days_from_release'], bin_data['avg_return'] * 100, \n",
    "                marker='o', label=f'CEI {score_bin}', linewidth=2.5, \n",
    "                color=colors[i], markersize=6)\n",
    "        \n",
    "        # Add confidence intervals\n",
    "        plt.fill_between(bin_data['days_from_release'], \n",
    "                        (bin_data['avg_return'] - 1.96 * bin_data['std_error']) * 100,\n",
    "                        (bin_data['avg_return'] + 1.96 * bin_data['std_error']) * 100,\n",
    "                        alpha=0.2, color=colors[i])\n",
    "\n",
    "# Add vertical line at release date\n",
    "plt.axvline(x=0, color='red', linestyle='--', linewidth=2, alpha=0.8, label='CEI Release Date')\n",
    "plt.axhline(y=0, color='black', linestyle='-', alpha=0.5)\n",
    "\n",
    "plt.title('Stock Returns Around CEI Release Dates by Score (All Years Combined)', fontsize=16, fontweight='bold')\n",
    "plt.xlabel('Days from CEI Release Date', fontsize=14)\n",
    "plt.ylabel('Average Daily Return (%)', fontsize=14)\n",
    "plt.legend(bbox_to_anchor=(1.05, 1), loc='upper left', fontsize=12)\n",
    "plt.grid(True, alpha=0.3)\n",
    "plt.tight_layout()\n",
    "plt.show()"
   ]
  },
  {
   "cell_type": "code",
   "execution_count": null,
   "metadata": {},
   "outputs": [],
   "source": [
    "# Create cumulative returns plot\n",
    "plt.figure(figsize=(14, 10))\n",
    "\n",
    "for i, score_bin in enumerate(score_bins):\n",
    "    bin_data = overall_analysis[overall_analysis['score_bin'] == score_bin].sort_values('days_from_release')\n",
    "    \n",
    "    if not bin_data.empty:\n",
    "        # Calculate cumulative returns\n",
    "        cumulative_returns = (1 + bin_data['avg_return']).cumprod() - 1\n",
    "        \n",
    "        plt.plot(bin_data['days_from_release'], cumulative_returns * 100, \n",
    "                marker='o', label=f'CEI {score_bin}', linewidth=2.5, \n",
    "                color=colors[i], markersize=6)\n",
    "\n",
    "plt.axvline(x=0, color='red', linestyle='--', linewidth=2, alpha=0.8, label='CEI Release Date')\n",
    "plt.axhline(y=0, color='black', linestyle='-', alpha=0.5)\n",
    "\n",
    "plt.title('Cumulative Returns Around CEI Release Dates by Score', fontsize=16, fontweight='bold')\n",
    "plt.xlabel('Days from CEI Release Date', fontsize=14)\n",
    "plt.ylabel('Cumulative Return (%)', fontsize=14)\n",
    "plt.legend(bbox_to_anchor=(1.05, 1), loc='upper left', fontsize=12)\n",
    "plt.grid(True, alpha=0.3)\n",
    "plt.tight_layout()\n",
    "plt.show()"
   ]
  },
  {
   "cell_type": "markdown",
   "metadata": {},
   "source": [
    "## 5. Statistical Analysis"
   ]
  },
  {
   "cell_type": "code",
   "execution_count": null,
   "metadata": {},
   "outputs": [],
   "source": [
    "# Calculate event window returns (e.g., 3 days before to 3 days after)\n",
    "event_window = merged_df[merged_df['days_from_release'].between(-3, 3)]\n",
    "\n",
    "# Calculate cumulative returns for each firm during event window\n",
    "firm_event_returns = event_window.groupby(['cusip6', 'year', 'score_bin'])['RET'].sum().reset_index()\n",
    "firm_event_returns.columns = ['cusip6', 'year', 'score_bin', 'event_return']\n",
    "\n",
    "print(\"Event Window Returns Summary:\")\n",
    "summary_stats = firm_event_returns.groupby('score_bin')['event_return'].agg([\n",
    "    'count', 'mean', 'std', 'min', 'max'\n",
    "])\n",
    "summary_stats.columns = ['N_firms', 'Mean_Return', 'Std_Return', 'Min_Return', 'Max_Return']\n",
    "summary_stats['Mean_Return_pct'] = summary_stats['Mean_Return'] * 100\n",
    "display(summary_stats)"
   ]
  },
  {
   "cell_type": "code",
   "execution_count": null,
   "metadata": {},
   "outputs": [],
   "source": [
    "# Box plot of event returns by score bin\n",
    "plt.figure(figsize=(12, 8))\n",
    "\n",
    "# Prepare data for box plot\n",
    "box_data = []\n",
    "labels = []\n",
    "\n",
    "for score_bin in sorted(firm_event_returns['score_bin'].unique()):\n",
    "    returns = firm_event_returns[firm_event_returns['score_bin'] == score_bin]['event_return'] * 100\n",
    "    box_data.append(returns)\n",
    "    labels.append(f'CEI {score_bin}')\n",
    "\n",
    "plt.boxplot(box_data, labels=labels)\n",
    "plt.title('Distribution of 7-Day Event Window Returns by CEI Score', fontsize=16, fontweight='bold')\n",
    "plt.xlabel('CEI Score Bin', fontsize=14)\n",
    "plt.ylabel('Event Window Return (%)', fontsize=14)\n",
    "plt.xticks(rotation=45)\n",
    "plt.grid(True, alpha=0.3)\n",
    "plt.tight_layout()\n",
    "plt.show()"
   ]
  },
  {
   "cell_type": "code",
   "execution_count": null,
   "metadata": {},
   "outputs": [],
   "source": [
    "# Test for significant differences between high and low CEI scores\n",
    "from scipy import stats\n",
    "\n",
    "# Compare highest scoring companies (90-100) vs lowest (0-19)\n",
    "high_scores = firm_event_returns[firm_event_returns['score_bin'].isin(['90-100'])]['event_return']\n",
    "low_scores = firm_event_returns[firm_event_returns['score_bin'].isin(['0-9', '10-19'])]['event_return']\n",
    "\n",
    "if len(high_scores) > 0 and len(low_scores) > 0:\n",
    "    t_stat, p_value = stats.ttest_ind(high_scores, low_scores)\n",
    "    \n",
    "    print(f\"Statistical Test: High CEI (90-100) vs Low CEI (0-19) Scores\")\n",
    "    print(f\"High CEI mean return: {high_scores.mean()*100:.3f}%\")\n",
    "    print(f\"Low CEI mean return: {low_scores.mean()*100:.3f}%\")\n",
    "    print(f\"Difference: {(high_scores.mean() - low_scores.mean())*100:.3f} percentage points\")\n",
    "    print(f\"T-statistic: {t_stat:.3f}\")\n",
    "    print(f\"P-value: {p_value:.3f}\")\n",
    "    print(f\"Significant at 5% level: {'Yes' if p_value < 0.05 else 'No'}\")\n",
    "else:\n",
    "    print(\"Insufficient data for statistical test\")"
   ]
  },
  {
   "cell_type": "markdown",
   "metadata": {},
   "source": [
    "## 6. Key Findings Summary"
   ]
  },
  {
   "cell_type": "code",
   "execution_count": null,
   "metadata": {},
   "outputs": [],
   "source": [
    "# Summary statistics table\n",
    "print(\"=== CEI STOCK RETURN ANALYSIS SUMMARY ===\")\n",
    "print(f\"\\nData Coverage:\")\n",
    "print(f\"  • Total observations: {len(merged_df):,}\")\n",
    "print(f\"  • Unique firms: {merged_df['cusip6'].nunique()}\")\n",
    "print(f\"  • Years analyzed: {len(merged_df['year'].unique())}\")\n",
    "print(f\"  • CEI release dates: {len(merged_df['cei_release_date'].unique())}\")\n",
    "\n",
    "print(f\"\\nScore Distribution:\")\n",
    "for score_bin in sorted(summary_stats.index):\n",
    "    n_firms = summary_stats.loc[score_bin, 'N_firms']\n",
    "    mean_ret = summary_stats.loc[score_bin, 'Mean_Return_pct']\n",
    "    print(f\"  • CEI {score_bin}: {n_firms} firms, {mean_ret:.3f}% avg return\")\n",
    "\n",
    "print(f\"\\nEvent Window Analysis (-3 to +3 days):\")\n",
    "if len(high_scores) > 0 and len(low_scores) > 0:\n",
    "    print(f\"  • High CEI firms (90-100): {high_scores.mean()*100:.3f}% average return\")\n",
    "    print(f\"  • Low CEI firms (0-19): {low_scores.mean()*100:.3f}% average return\")\n",
    "    print(f\"  • Difference: {(high_scores.mean() - low_scores.mean())*100:.3f} percentage points\")\n",
    "    print(f\"  • Statistical significance: {'Yes' if p_value < 0.05 else 'No'} (p = {p_value:.3f})\")\n",
    "\n",
    "print(\"\\n\" + \"=\"*50)"
   ]
  }
 ],
 "metadata": {
  "kernelspec": {
   "display_name": "Python 3",
   "language": "python",
   "name": "python3"
  },
  "language_info": {
   "codemirror_mode": {
    "name": "ipython",
    "version": 3
   },
   "file_extension": ".py",
   "mimetype": "text/x-python",
   "name": "python",
   "nbconvert_exporter": "python",
   "pygments_lexer": "ipython3",
   "version": "3.8.10"
  }
 },
 "nbformat": 4,
 "nbformat_minor": 4
}